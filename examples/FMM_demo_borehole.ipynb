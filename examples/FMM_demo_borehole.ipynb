{
 "cells": [
  {
   "cell_type": "markdown",
   "metadata": {
    "deletable": true,
    "editable": true
   },
   "source": [
    "## Travel times in 2D heterogenous media: Borehole example  #"
   ]
  },
  {
   "cell_type": "code",
   "execution_count": 1,
   "metadata": {
    "deletable": true,
    "editable": true,
    "tags": []
   },
   "outputs": [],
   "source": [
    "%matplotlib inline\n",
    "import numpy as np\n",
    "import matplotlib.pyplot as plt\n",
    "#import wavetracker as wt     # wavefront tracking package\n",
    "import pyfm2dss as wt\n",
    "import time\n",
    "from tqdm import tqdm"
   ]
  },
  {
   "cell_type": "code",
   "execution_count": 2,
   "metadata": {},
   "outputs": [],
   "source": [
    "wtp = wt.plot() # wave tracker plot class"
   ]
  },
  {
   "cell_type": "markdown",
   "metadata": {},
   "source": [
    "--------"
   ]
  },
  {
   "cell_type": "markdown",
   "metadata": {
    "tags": []
   },
   "source": [
    "## Fast Marching Wave Front Tracking\n"
   ]
  },
  {
   "cell_type": "markdown",
   "metadata": {},
   "source": [
    "The wave front tracker routines solves boundary value ray tracing problems into 2D heterogeneous wavespeed media, defined by continuously varying velocity model calculated by 2D cubic B-splines.\n",
    "\n",
    "Follows similar structure and makes use of code borrowed from Andrew Valentine's rayTracer.py."
   ]
  },
  {
   "cell_type": "markdown",
   "metadata": {},
   "source": [
    "#### Utility routines for building velocity models"
   ]
  },
  {
   "cell_type": "code",
   "execution_count": 3,
   "metadata": {
    "tags": []
   },
   "outputs": [],
   "source": [
    "# build test velocity models\n",
    "from scipy.stats import multivariate_normal\n",
    "\n",
    "def get_spherical_model(extent,nx,ny): # build two spherical anomaly velocity model\n",
    "    # set up velocity model\n",
    "    vc1 = 1700.                           # velocity of circle 1\n",
    "    vc2 = 2300.                           # velocity of circle 2\n",
    "    c1,rad1 = np.array([7.0,22.]),3.0     # location and radius of centre of first circle\n",
    "    c2,rad2 = np.array([12.0,10.]),4.0    # location and radius of centre of first circle\n",
    "    #nx,ny = 32,48                         # model discretization\n",
    "    mb = 2000.*np.ones([nx,ny])           # velocity model in m/s\n",
    "    dx = (extent[1]-extent[0])/nx                           # cell width\n",
    "    dy = (extent[3]-extent[2])/ny                           # cell height\n",
    "    xc = np.linspace(extent[0]+dx/2.,extent[1]-dx/2.,nx)    # cell centre\n",
    "    yc = np.linspace(extent[2]+dy/2.,extent[3]-dy/2.,ny)    # cell centre\n",
    "    X,Y = np.meshgrid(xc, yc)   # cell centre mesh\n",
    "    m = np.copy(mb)\n",
    "    a = (X-c1[0])**2 + (Y-c1[1])**2 < rad1**2\n",
    "    m[a.T] = vc1\n",
    "    b = (X-c2[0])**2 + (Y-c2[1])**2 < rad2**2\n",
    "    m[b.T] = vc2\n",
    "    return m\n",
    "\n",
    "def get_gauss_model(extent,nx,ny): # build two gaussian anomaly velocity model\n",
    "    vc1 = 1700.*factor                           # velocity of circle 1\n",
    "    vc2 = 2300.*factor                        # velocity of circle 2\n",
    "    vb = 2000.*factor                            # background velocity\n",
    "    dx = (extent[1]-extent[0])/nx                           # cell width\n",
    "    dy = (extent[3]-extent[2])/ny                           # cell height\n",
    "    xc = np.linspace(extent[0],extent[1],nx)    # cell centre\n",
    "    yc = np.linspace(extent[2],extent[3],ny)    # cell centre\n",
    "    X,Y = np.meshgrid(xc, yc,indexing='ij')   # cell centre mesh\n",
    "\n",
    "    # Multivariate Normal\n",
    "    c1,sig1 = np.array([7.0,22.])*factor,6.0*(factor**2)    # location and radius of centre of first circle\n",
    "    c2,sig2 = np.array([12.0,10.])*factor,10.0*(factor**2)    # location and radius of centre of first circle\n",
    "    rv1 = multivariate_normal(c1, [[sig1, 0], [0, sig1]])\n",
    "    rv2 = multivariate_normal(c2, [[sig2, 0], [0, sig2]])\n",
    "\n",
    "    # Probability Density\n",
    "    pos = np.empty(X.shape + (2,))\n",
    "    pos[:, :, 0] = X\n",
    "    pos[:, :, 1] = Y\n",
    "    gauss1,gauss2 = rv1.pdf(pos),rv2.pdf(pos)\n",
    "    return   vb*np.ones([nx,ny])  + (vc1-vb)*gauss1/np.max(gauss1) + (vc2-vb)*gauss2/np.max(gauss2)\n"
   ]
  },
  {
   "cell_type": "markdown",
   "metadata": {},
   "source": [
    "\n",
    "----"
   ]
  },
  {
   "cell_type": "markdown",
   "metadata": {},
   "source": [
    "### Specifying a velocity model"
   ]
  },
  {
   "cell_type": "markdown",
   "metadata": {
    "deletable": true,
    "editable": true
   },
   "source": [
    "Velocity or Slowness models should be provided in the form of a 2D NumPy array, which specify the *velocity* structure at 'nodes' within a 2D medium. A cubic B-spline velocity model is then constructed about these nodal velocities to give a smoothly varying velocity field throughout the medium. To define the model we create an instance of the class `pyfm2dss.gridModel`, passing our model as an argument:"
   ]
  },
  {
   "cell_type": "markdown",
   "metadata": {},
   "source": [
    "\n",
    "Internally the velocity model is `diced` (interpolated) onto a finer grid of `8x8` (default) cells per velocity node. \n",
    "The latter is used for Fast Marching calculations. The discretization levels `(dicex,dicey)` are options that can be changed in the call to `gridModel`.  For a cubic interpolation there must be at least 4 velocity nodes in each direction.\n"
   ]
  },
  {
   "cell_type": "code",
   "execution_count": 4,
   "metadata": {},
   "outputs": [],
   "source": [
    "m = np.array([[1,1.1,1.1,1.],\n",
    "              [1.,1.2,1.4,1.3],\n",
    "              [1.1,1.2,1.3,1.2],\n",
    "              [1.1,1.1,1.2,1.2]])\n",
    "g=wt.gridModel(m)"
   ]
  },
  {
   "cell_type": "markdown",
   "metadata": {
    "deletable": true,
    "editable": true
   },
   "source": [
    "To access and change the model subsequently, the `pyfm2dss.gridModel` object provides functions `getVelocity()`, `getSlowness()`, `setVelocity(v)` and `setSlowness(s)`. For example:"
   ]
  },
  {
   "cell_type": "code",
   "execution_count": 5,
   "metadata": {},
   "outputs": [
    {
     "data": {
      "text/plain": [
       "array([[1.        , 0.90909091, 0.90909091, 1.        ],\n",
       "       [1.        , 1.42857143, 0.71428571, 0.76923077],\n",
       "       [0.90909091, 0.76923077, 1.11111111, 0.83333333],\n",
       "       [0.90909091, 0.90909091, 0.83333333, 0.83333333]])"
      ]
     },
     "execution_count": 5,
     "metadata": {},
     "output_type": "execute_result"
    }
   ],
   "source": [
    "mp = g.getVelocity()\n",
    "mp[1,1] = 0.7\n",
    "mp[2,2] = 0.9\n",
    "mp[2,1] = 1.3\n",
    "g.setVelocity(mp)\n",
    "g.getSlowness()"
   ]
  },
  {
   "cell_type": "markdown",
   "metadata": {},
   "source": [
    "\n",
    "The routine `displayModel` can be used to plot the model. By default the actual interpolated velocity model is displayed by `displayModel`, but this can be removed with option `dice=False`.\n"
   ]
  },
  {
   "cell_type": "code",
   "execution_count": 6,
   "metadata": {},
   "outputs": [
    {
     "data": {
      "image/png": "[encoded data removed]",
      "text/plain": [
       "<Figure size 600x600 with 2 Axes>"
      ]
     },
     "metadata": {},
     "output_type": "display_data"
    }
   ],
   "source": [
    "wtp.displayModel(g.getVelocity())"
   ]
  },
  {
   "cell_type": "markdown",
   "metadata": {},
   "source": [
    "### Fast Marching wavefront tracking\n",
    " \n",
    "The method used here is *Fast Marching wavefront tracking*. In this algorithm the entire first arriving wavefronts from each source are calculated across the entire model in the form of a *travel time field* one per source. Travel times and ray paths are then calculated by tracing rays back from a desired receiver position to the source along the perpendicular to the wavefronts. This uses the *Fast Marching method* which is stable in highly heterogeneous velocity models. Here we implement a version of Fast Marching with source grid refinement for improved accuracy, as described in the papers below. \n",
    "\n",
    "*Rawlinson, N., de Kool, M. and Sambridge, M., 2006. \"Seismic wavefront tracking in 3-D heterogeneous media: applications with multiple data classes\", Explor. Geophys., 37, 322-330.*\n",
    "\n",
    "*de Kool, M., Rawlinson, N. and Sambridge, M. 2006. \"A practical grid based method for tracking multiple refraction and reflection phases in 3D heterogeneous media\", Geophys. J. Int., 167, 253-270.*\n",
    "\n",
    "The python implementation here is a *wrapper* around the FMM code `fm2dss.f90` of Nick Rawlinson using `ctypes`.\n",
    "\n",
    "-------"
   ]
  },
  {
   "cell_type": "markdown",
   "metadata": {},
   "source": [
    "First we set up a single source and receiver."
   ]
  },
  {
   "cell_type": "code",
   "execution_count": 7,
   "metadata": {},
   "outputs": [],
   "source": [
    "srcs = np.array([0.1,0.15])"
   ]
  },
  {
   "cell_type": "code",
   "execution_count": 8,
   "metadata": {},
   "outputs": [],
   "source": [
    "recs = np.array([[0.8,1],[1.,0.6]])"
   ]
  },
  {
   "cell_type": "markdown",
   "metadata": {},
   "source": [
    "#### Calling sequence\n",
    "\n",
    "The wavefront tracker is implemented with a function of the class `pyfm2dss.WaveTracker` called `calc_wavefronts(vmodel,recs,srcs)` which calculates all first arriving travel times between sources, `srcs` and receivers, `recs` for velocity model `vmodel`. (Travel time is set to zero if no path is found.)\n",
    "\n",
    "  The main optional arguments are:\n",
    "  \n",
    "  - `extent` = boundary of region as above\n",
    "  - `paths = True` to return ray paths\n",
    "  - `frechet = True` to return matrix of derivatives of travel times with respect to input velocities.\n",
    "  - `tfieldsource = i`, to return first arriving travel time field for ith source.\n",
    "        \n",
    "       Many other arguments exist which allow complete control of the Fast Marching algorithm. Details can be found in the doc string. A full implementation would be\n",
    "       \n",
    "        import pyfm2dss as wt\n",
    "        mywf = wt.WaveTracker()\n",
    "        mywf.calc_wavefronts(vmodel,recs,srcs,paths=True,frechet=True,tfieldsource=0)\n",
    "           \n",
    "       After which the class instances `mywf` would have set `mywf.ttimes` for travel times, `mywf.paths` for ray paths, `mywf.frechet` fr matrix of derivatives (in `csr_matrix` format); `mywf.tfield` for travel time field of source `mywf.tfieldsource`."
   ]
  },
  {
   "cell_type": "code",
   "execution_count": null,
   "metadata": {},
   "outputs": [],
   "source": [
    "# run wave front tracker\n",
    "fmm = wt.WaveTracker()\n",
    "fmm.calc_wavefronts(g.getVelocity(),recs,srcs,verbose=False,frechet=True,paths=True)\n",
    "print(' Number of paths calculated = ',len(fmm.paths))\n",
    "print(' Number of travel times calculated = ',len(fmm.ttimes))\n",
    "print(' Shape of frechet matrix = ',fmm.frechet.shape)"
   ]
  },
  {
   "cell_type": "code",
   "execution_count": null,
   "metadata": {},
   "outputs": [],
   "source": [
    "# run wave front tracker\n",
    "fmm = wt.WaveTracker()\n",
    "fmm.calc_wavefronts(g.getVelocity(),recs,srcs,verbose=True,paths=True)\n",
    "print(' Number of travel times calculated = ',len(fmm.ttimes))\n",
    "print(' Number of paths calculated = ',len(fmm.paths))\n",
    "#print(' Shape of frechet matrix = ',fmm.frechet.shape)"
   ]
  },
  {
   "cell_type": "code",
   "execution_count": 11,
   "metadata": {},
   "outputs": [
    {
     "data": {
      "text/plain": [
       "array([1.0208858, 0.9646195], dtype=float32)"
      ]
     },
     "execution_count": 11,
     "metadata": {},
     "output_type": "execute_result"
    }
   ],
   "source": [
    "fmm.ttimes"
   ]
  },
  {
   "cell_type": "markdown",
   "metadata": {},
   "source": [
    "To plot models, you can use the function `waveTracker.displayModel`. This takes the form:\n",
    "```python\n",
    "waveTracker.displayModel(model,paths,extent,clim,cline,cmap,figsize,wfront,**kwargs)\n",
    "```\n",
    "but only the first argument is essential; the others are all optional. Their meanings are:\n",
    "- `model` is the 2-D array containg the attenuation coefficients in each cell\n",
    "- `paths` is the 2-D array of path information in the same form as for `xrt.tracer`. We recommend you do not use this option if you have more than a modest number of paths (a few tens) as it will be slow to plot and difficult to see anything useful.\n",
    "- `extent` specifies the region of space for which the model is defined, in the format `(xmin,xmax,ymin,ymax)`; by default this is `(0,1,0,1)`.\n",
    "- `clim` sets the range of the colour-scale; use `clim=(min,max)`. By default this is inferred from the model provided.\n",
    "- `cline` sets the colour of the ray paths (default 'k').\n",
    "- `cmap` sets the colour map; provide one of the many choices provided within `matplotlib` (accessed within `plt.cm`, e.g. `cmap=plt.cm.RdBu_r`)\n",
    "- `figsize` allows you to control the size of the figure: provide `figsize=(xsize,ysize)`.\n",
    "-  `wfront` is a 2-D array of first arriving travel times to all points in the model from a given source that can be contoured to visualize a wavefront. Here the input array can be calculated by the `wavefront_tracker()` routine for a specified source.\n",
    "- if `wfront` is used then any remaining `kwargs` are passed to `matplotlib.pyplot.contour()` to control features of all wavefronts).\n",
    "\n",
    "For example,"
   ]
  },
  {
   "cell_type": "code",
   "execution_count": null,
   "metadata": {},
   "outputs": [],
   "source": [
    "wtp.displayModel(g.getVelocity(),paths=fmm.paths,diced=True)"
   ]
  },
  {
   "cell_type": "markdown",
   "metadata": {},
   "source": [
    "Let's try a different source-receiver configuration."
   ]
  },
  {
   "cell_type": "code",
   "execution_count": null,
   "metadata": {},
   "outputs": [],
   "source": [
    "help(wt.wavefront_tracker)"
   ]
  },
  {
   "cell_type": "code",
   "execution_count": null,
   "metadata": {},
   "outputs": [],
   "source": [
    "# run wave front tracker\n",
    "recs = wt.generateSurfacePoints(8)\n",
    "fmm = wt.wavefront_tracker(g.getVelocity(),recs,srcs,verbose=True,frechet=True,paths=True,tfieldsource=0)\n",
    "print(' Number of paths calculated = ',len(fmm.paths))\n",
    "print(' Number of travel times calculated = ',len(fmm.ttimes))\n",
    "print(' Shape of frechet matrix = ',fmm.frechet.shape)"
   ]
  },
  {
   "cell_type": "markdown",
   "metadata": {},
   "source": [
    "The routine `displayModel` is able to optionally overlay wavefronts for a single source produced by the wavefront tracker."
   ]
  },
  {
   "cell_type": "code",
   "execution_count": null,
   "metadata": {},
   "outputs": [],
   "source": [
    "wtp.displayModel(g.getVelocity(),wfront=fmm.tfield,alpha=0.5,colors='k',linewidths=0.5,levels=np.linspace(0.01,1.2,16))"
   ]
  },
  {
   "cell_type": "markdown",
   "metadata": {},
   "source": [
    "\n",
    "----"
   ]
  },
  {
   "cell_type": "markdown",
   "metadata": {},
   "source": [
    "### Example: Cross borehole velocity model"
   ]
  },
  {
   "cell_type": "code",
   "execution_count": null,
   "metadata": {},
   "outputs": [],
   "source": [
    "factor = 1.\n",
    "extent = [0.0, 20.0*factor, 0.0, 30.0*factor]\n",
    "#m=get_spherical_model(extent,32,48)\n",
    "m = get_gauss_model(extent,32,48)\n",
    "g2=wt.gridModel(m,extent=extent)\n",
    "wtp.displayModel(g2.getVelocity(),extent=extent,figsize=(8,8),clim=(1700*factor,2300*factor))"
   ]
  },
  {
   "cell_type": "code",
   "execution_count": null,
   "metadata": {},
   "outputs": [],
   "source": [
    "# build sources and receivers for model 2\n",
    "#extent = [0.,20.,0.,30.]\n",
    "#extent = [0.,25.,-30.,0.] # With this option findPath produced no rays.\n",
    "# create 10 sources of left and 10 receiver on right\n",
    "recs = wt.generateSurfacePoints(10,extent=extent,surface=[False,True,False,False],addCorners=False) # generate receivers around edge\n",
    "srcs = wt.generateSurfacePoints(10,extent=extent,surface=[True,False,False,False],addCorners=False) # generate receivers around edge\n",
    "nr = len(recs)                      # number of receivers\n",
    "ns = len(recs)                      # number of sources"
   ]
  },
  {
   "cell_type": "code",
   "execution_count": null,
   "metadata": {},
   "outputs": [],
   "source": [
    "# run wave front tracker\n",
    "fmm = wt.wavefront_tracker(g2.getVelocity(),recs,srcs,verbose=True,frechet=True,paths=True,extent=extent,earthradius=6371.0)\n",
    "print(' Number of paths calculated = ',len(fmm.paths))\n",
    "print(' Number of travel times calculated = ',len(fmm.ttimes))\n",
    "print(' Shape of frechet matrix = ',fmm.frechet.shape)"
   ]
  },
  {
   "cell_type": "code",
   "execution_count": null,
   "metadata": {},
   "outputs": [],
   "source": [
    "wtp.displayModel(g2.getVelocity(),paths=fmm.paths,extent=extent,figsize=(8,8),clim=(1700*factor,2300*factor),line=0.5,alpha=0.8)"
   ]
  },
  {
   "cell_type": "markdown",
   "metadata": {},
   "source": [
    "### Example: Cross borehole continuous"
   ]
  },
  {
   "cell_type": "code",
   "execution_count": null,
   "metadata": {},
   "outputs": [],
   "source": [
    "extent = [0.0, 20.0, 0.0, 30.0]\n",
    "g3=wt.gridModel(np.loadtxt('datasets/cbmod.txt'),extent=extent)\n",
    "wtp.displayModel(g3.getVelocity(),extent=extent,figsize=(8,8),clim=(1700,2300))"
   ]
  },
  {
   "cell_type": "code",
   "execution_count": null,
   "metadata": {},
   "outputs": [],
   "source": [
    "# build sources and receivers for model 2\n",
    "#extent = [0.,20.,0.,30.]\n",
    "#extent = [0.,25.,-30.,0.] # With this option findPath produced no rays.\n",
    "# create 10 sources of left and 10 receiver on right\n",
    "recs = wt.generateSurfacePoints(10,extent=extent,surface=[False,True,False,False],addCorners=False) # generate receivers around edge\n",
    "srcs = wt.generateSurfacePoints(10,extent=extent,surface=[True,False,False,False],addCorners=False) # generate receivers around edge\n",
    "nr = len(recs)                      # number of receivers\n",
    "ns = len(recs)                      # number of sources"
   ]
  },
  {
   "cell_type": "markdown",
   "metadata": {},
   "source": [
    "### Ray paths and wavefronts"
   ]
  },
  {
   "cell_type": "code",
   "execution_count": null,
   "metadata": {},
   "outputs": [],
   "source": [
    "# calculate an plot ray paths and wavefronts\n",
    "\n",
    "sourcew = 5 # select a source index to calculate and display wavefronts.\n",
    "\n",
    "fmm = wt.wavefront_tracker(g2.getVelocity(),recs,srcs,verbose=True,frechet=True,paths=True,extent=extent,tfieldsource=sourcew)\n",
    "print(' Number of sources                 = ',ns)\n",
    "print(' Number of receivers               = ',nr)\n",
    "print(' Number of paths calculated        = ',len(fmm.paths))\n",
    "print(' Number of travel times calculated = ',len(fmm.ttimes))\n",
    "print(' Shape of frechet matrix           = ',fmm.frechet.shape)"
   ]
  },
  {
   "cell_type": "markdown",
   "metadata": {},
   "source": [
    "Display velocity model and all two-point ray paths."
   ]
  },
  {
   "cell_type": "code",
   "execution_count": null,
   "metadata": {},
   "outputs": [],
   "source": [
    "wtp.displayModel(g3.getVelocity(),paths=fmm.paths,extent=extent,figsize=(8,8),clim=(1700,2300),line=0.5,cline='k',alpha=0.8)"
   ]
  },
  {
   "cell_type": "markdown",
   "metadata": {},
   "source": [
    "Display velocity model, rays and wavefronts for chosen source."
   ]
  },
  {
   "cell_type": "code",
   "execution_count": null,
   "metadata": {},
   "outputs": [],
   "source": [
    "wtp.displayModel(g3.getVelocity(),paths=fmm.paths[ns*sourcew:ns*sourcew+nr],clim=(1700,2300),extent=extent,figsize=(8,8),cline='g',alpha=0.9,line=0.5,wfront=fmm.tfield,colors='k')"
   ]
  },
  {
   "cell_type": "markdown",
   "metadata": {},
   "source": [
    "----"
   ]
  },
  {
   "cell_type": "markdown",
   "metadata": {},
   "source": [
    "### A test of computation time"
   ]
  },
  {
   "cell_type": "markdown",
   "metadata": {},
   "source": [
    "Here is a simple repeat of fmm to test compute times."
   ]
  },
  {
   "cell_type": "code",
   "execution_count": null,
   "metadata": {},
   "outputs": [],
   "source": [
    "n = 10  # number of repeats\n",
    "\n",
    "start = time.time()\n",
    "for i in tqdm(range(n)):\n",
    "    fmm = wt.wavefront_tracker(g2.getVelocity(),recs,srcs,verbose=False,frechet=True,paths=True,extent=extent)\n",
    "etime1 = time.time() - start\n",
    "lp = len(fmm.paths)\n",
    "start = time.time()\n",
    "for i in tqdm(range(n)):\n",
    "    fmm = wt.wavefront_tracker(g2.getVelocity(),recs,srcs,verbose=False,paths=True,extent=extent)\n",
    "etime2 = time.time() - start\n",
    "start = time.time()\n",
    "for i in tqdm(range(n)):\n",
    "    fmm = wt.wavefront_tracker(g2.getVelocity(),recs,srcs,verbose=False,extent=extent)\n",
    "etime3 = time.time() - start\n",
    "print(' Number of sources                 = ',ns)\n",
    "print(' Number of receivers               = ',nr)\n",
    "print(' Number of paths calculated        = ',lp)\n",
    "print(' Number of travel times calculated = ',len(fmm.ttimes))\n",
    "print(' Average compute time over {} trials:             {:.3}s'.format(n,etime1/n))\n",
    "print(' Compute time over {} trials no frechet:          {:.3}s'.format(n,etime2/n))\n",
    "print(' Compute time over {} trials no frechet no paths: {:.3}s'.format(n,etime3/n))\n"
   ]
  },
  {
   "cell_type": "code",
   "execution_count": null,
   "metadata": {},
   "outputs": [],
   "source": []
  }
 ],
 "metadata": {
  "kernelspec": {
   "display_name": "Python 3 (ipykernel)",
   "language": "python",
   "name": "python3"
  },
  "language_info": {
   "codemirror_mode": {
    "name": "ipython",
    "version": 3
   },
   "file_extension": ".py",
   "mimetype": "text/x-python",
   "name": "python",
   "nbconvert_exporter": "python",
   "pygments_lexer": "ipython3",
   "version": "3.9.6"
  }
 },
 "nbformat": 4,
 "nbformat_minor": 4
}
